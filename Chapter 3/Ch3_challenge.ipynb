{
  "cells": [
    {
      "cell_type": "markdown",
      "metadata": {
        "id": "15EatDy5yxEI"
      },
      "source": [
        "#Analyze Customer Feedback\n",
        "\n",
        "In this exercise, we analyze customer feedback using spaCy and TextBlob."
      ]
    },
    {
      "cell_type": "markdown",
      "source": [
        "#Exercise #1:  Install Libraries and Modules\n",
        "\n"
      ],
      "metadata": {
        "id": "xfkLj86ioXxy"
      }
    },
    {
      "cell_type": "code",
      "execution_count": 1,
      "metadata": {
        "id": "aQZzfNqQkdfW",
        "colab": {
          "base_uri": "https://localhost:8080/"
        },
        "outputId": "a47e8945-83a1-486f-8b84-29a4e880b0d8"
      },
      "outputs": [
        {
          "output_type": "stream",
          "name": "stdout",
          "text": [
            "Requirement already satisfied: pandas in /usr/local/lib/python3.11/dist-packages (2.2.2)\n",
            "Requirement already satisfied: numpy>=1.23.2 in /usr/local/lib/python3.11/dist-packages (from pandas) (1.26.4)\n",
            "Requirement already satisfied: python-dateutil>=2.8.2 in /usr/local/lib/python3.11/dist-packages (from pandas) (2.8.2)\n",
            "Requirement already satisfied: pytz>=2020.1 in /usr/local/lib/python3.11/dist-packages (from pandas) (2024.2)\n",
            "Requirement already satisfied: tzdata>=2022.7 in /usr/local/lib/python3.11/dist-packages (from pandas) (2025.1)\n",
            "Requirement already satisfied: six>=1.5 in /usr/local/lib/python3.11/dist-packages (from python-dateutil>=2.8.2->pandas) (1.17.0)\n"
          ]
        }
      ],
      "source": [
        "#Install Libraries and Modules\n",
        "\n",
        "# install pandas\n",
        "!pip install pandas\n",
        "\n",
        "import spacy\n",
        "from textblob import TextBlob\n",
        "import pandas as pd\n",
        "import csv\n",
        "\n",
        "import seaborn as sns\n",
        "import matplotlib.pyplot as plt\n",
        "\n",
        "\n",
        "\n"
      ]
    },
    {
      "cell_type": "markdown",
      "source": [
        "#Exercise #2: Read in Feedback File and Create Output File for Results"
      ],
      "metadata": {
        "id": "TElJA9XWLMrm"
      }
    },
    {
      "cell_type": "code",
      "source": [
        "# EXERCISE - SCROLL DOWN TO THE \"START HERE\" SECTION BELOW.\n",
        "\n",
        "# Load the English NLP model\n",
        "nlp = spacy.load(\"en_core_web_sm\")\n",
        "\n",
        "\n",
        "#Define the path to the file containing feedback\n",
        "file_path = '/content/feedback_data.csv'\n",
        "\n",
        "# Read the file using open() with the specified parameters\n",
        "with open(file_path, \"r\", encoding=\"utf-8\") as file:\n",
        "    # Step 2: Read the lines of the file\n",
        "    feedback_data = file.readlines()\n",
        "\n",
        "\n",
        "# Add code to output feedback results to a file.\n",
        "output_csv_path = \"feedback_analysis_results.csv\"\n",
        "\n",
        "# Prepare CSV header\n",
        "csv_header = [\"Feedback Index\", \"Sentiment Polarity\", \"Sentiment Subjectivity\", \"Named Entities\", \"Preferred Contact Method\"]\n",
        "\n",
        "\n",
        "# Open CSV file for writing\n",
        "with open(output_csv_path, \"w\", newline=\"\", encoding=\"utf-8\") as csv_file:\n",
        "    # Create CSV writer\n",
        "    csv_writer = csv.writer(csv_file)\n",
        "\n",
        "    # Write the header\n",
        "    csv_writer.writerow(csv_header)\n",
        "\n",
        "\n",
        "for line in feedback_data:\n",
        "  print(\"\\n\\n\")\n",
        "  doc = nlp(line)\n",
        "\n",
        "  nouns = [token.text for token in doc if token.pos_ == 'NOUN']\n",
        "  adjetives = [token.text for token in doc if token.pos_ == 'ADJ']\n",
        "  verbs = [token.text for token in doc if token.pos_ == 'VERB']\n",
        "\n",
        "  # Perform sentiment analysis using TextBlob\n",
        "  blob = TextBlob(line)\n",
        "  sentiment_polarity = blob.sentiment.polarity\n",
        "  sentiment_subjectivity = blob.sentiment.subjectivity\n",
        "  print(f\"{sentiment_polarity=}, {sentiment_subjectivity=}\")\n",
        "\n",
        "  # Extract named entities\n",
        "  named_entities = [ent.text for ent in doc.ents]\n",
        "  print(f\"{named_entities=}\")\n",
        "\n",
        "  # Determine the preferred contact method\n",
        "  preferred_contact_method = \"chat\" if \"email\" not in line.lower() else \"email\"\n",
        "  print(f\"{preferred_contact_method=}\")\n",
        "\n",
        "#-----------------------------------------------------------------"
      ],
      "metadata": {
        "id": "mjkLcZRHQk0t",
        "colab": {
          "base_uri": "https://localhost:8080/"
        },
        "outputId": "17b91a66-aa0e-4696-cef6-fa6c3b81fcea"
      },
      "execution_count": 11,
      "outputs": [
        {
          "output_type": "stream",
          "name": "stdout",
          "text": [
            "\n",
            "\n",
            "\n",
            "sentiment_polarity=0.44166666666666665, sentiment_subjectivity=0.6666666666666666\n",
            "named_entities=['Los Angeles']\n",
            "preferred_contact_method='email'\n",
            "\n",
            "\n",
            "\n",
            "sentiment_polarity=0.13636363636363635, sentiment_subjectivity=0.45454545454545453\n",
            "named_entities=['New York']\n",
            "preferred_contact_method='email'\n",
            "\n",
            "\n",
            "\n",
            "sentiment_polarity=0.48409090909090907, sentiment_subjectivity=0.7511363636363636\n",
            "named_entities=['San Francisco']\n",
            "preferred_contact_method='chat'\n",
            "\n",
            "\n",
            "\n",
            "sentiment_polarity=-0.75, sentiment_subjectivity=0.75\n",
            "named_entities=['Chicago']\n",
            "preferred_contact_method='email'\n"
          ]
        }
      ]
    },
    {
      "cell_type": "markdown",
      "metadata": {
        "id": "l7hiWdrojvK_"
      },
      "source": [
        "#Exercise #3:  Exploratory Data Analysis on Customer Feedback"
      ]
    },
    {
      "cell_type": "code",
      "execution_count": null,
      "metadata": {
        "id": "c3VdXX05nCw0"
      },
      "outputs": [],
      "source": [
        "##Load results file into a Pandas Dataframe\n",
        "\n",
        "\n",
        "\n",
        "# Display the first rows of the DataFrame\n",
        "\n"
      ]
    },
    {
      "cell_type": "code",
      "execution_count": null,
      "metadata": {
        "id": "CP2J1lkwnyYL"
      },
      "outputs": [],
      "source": [
        "df.info()"
      ]
    },
    {
      "cell_type": "markdown",
      "source": [
        "##Plot the Preferred Contact Method"
      ],
      "metadata": {
        "id": "HPcHpaS5nb2k"
      }
    },
    {
      "cell_type": "code",
      "source": [
        "# Example plot: Preferred Contact Method Count\n",
        "\n",
        "\n",
        "\n",
        "\n"
      ],
      "metadata": {
        "id": "1LKkuGxtfDOt"
      },
      "execution_count": null,
      "outputs": []
    },
    {
      "cell_type": "markdown",
      "source": [
        "##Plot the Sentiment Polarity and Sentiment Subjectivity"
      ],
      "metadata": {
        "id": "1ZN_mzufnh0S"
      }
    },
    {
      "cell_type": "code",
      "source": [
        "# Pair Plot: Pairwise relationships\n",
        "sns.pairplot(data=df[['Sentiment Polarity', 'Sentiment Subjectivity']],\n",
        "             diag_kind='kde')\n",
        "plt.suptitle('Pair Plot: Pairwise relationships')\n",
        "plt.show()"
      ],
      "metadata": {
        "id": "WjYn8tEjgivQ"
      },
      "execution_count": null,
      "outputs": []
    }
  ],
  "metadata": {
    "colab": {
      "provenance": []
    },
    "kernelspec": {
      "display_name": "Python 3",
      "name": "python3"
    },
    "language_info": {
      "name": "python"
    }
  },
  "nbformat": 4,
  "nbformat_minor": 0
}