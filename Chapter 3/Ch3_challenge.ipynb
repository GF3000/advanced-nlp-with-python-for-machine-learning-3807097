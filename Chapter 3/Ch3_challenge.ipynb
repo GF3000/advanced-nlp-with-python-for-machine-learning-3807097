{
  "cells": [
    {
      "cell_type": "markdown",
      "metadata": {
        "id": "15EatDy5yxEI"
      },
      "source": [
        "#Analyze Customer Feedback\n",
        "\n",
        "In this exercise, we analyze customer feedback using spaCy and TextBlob."
      ]
    },
    {
      "cell_type": "markdown",
      "source": [
        "#Exercise #1:  Install Libraries and Modules\n",
        "\n"
      ],
      "metadata": {
        "id": "xfkLj86ioXxy"
      }
    },
    {
      "cell_type": "code",
      "execution_count": 1,
      "metadata": {
        "id": "aQZzfNqQkdfW",
        "outputId": "a47e8945-83a1-486f-8b84-29a4e880b0d8",
        "colab": {
          "base_uri": "https://localhost:8080/"
        }
      },
      "outputs": [
        {
          "output_type": "stream",
          "name": "stdout",
          "text": [
            "Requirement already satisfied: pandas in /usr/local/lib/python3.11/dist-packages (2.2.2)\n",
            "Requirement already satisfied: numpy>=1.23.2 in /usr/local/lib/python3.11/dist-packages (from pandas) (1.26.4)\n",
            "Requirement already satisfied: python-dateutil>=2.8.2 in /usr/local/lib/python3.11/dist-packages (from pandas) (2.8.2)\n",
            "Requirement already satisfied: pytz>=2020.1 in /usr/local/lib/python3.11/dist-packages (from pandas) (2024.2)\n",
            "Requirement already satisfied: tzdata>=2022.7 in /usr/local/lib/python3.11/dist-packages (from pandas) (2025.1)\n",
            "Requirement already satisfied: six>=1.5 in /usr/local/lib/python3.11/dist-packages (from python-dateutil>=2.8.2->pandas) (1.17.0)\n"
          ]
        }
      ],
      "source": [
        "#Install Libraries and Modules\n",
        "\n",
        "# install pandas\n",
        "!pip install pandas\n",
        "\n",
        "import spacy\n",
        "from textblob import TextBlob\n",
        "import pandas as pd\n",
        "import csv\n",
        "\n",
        "import seaborn as sns\n",
        "import matplotlib.pyplot as plt\n",
        "\n",
        "\n",
        "\n"
      ]
    },
    {
      "cell_type": "markdown",
      "source": [
        "#Exercise #2: Read in Feedback File and Create Output File for Results"
      ],
      "metadata": {
        "id": "TElJA9XWLMrm"
      }
    },
    {
      "cell_type": "code",
      "source": [
        "# EXERCISE - SCROLL DOWN TO THE \"START HERE\" SECTION BELOW.\n",
        "\n",
        "# Load the English NLP model\n",
        "nlp = spacy.load(\"en_core_web_sm\")\n",
        "\n",
        "\n",
        "#Define the path to the file containing feedback\n",
        "file_path = '/content/feedback_data.csv'\n",
        "\n",
        "# Read the file using open() with the specified parameters\n",
        "with open(file_path, \"r\", encoding=\"utf-8\") as file:\n",
        "    # Step 2: Read the lines of the file\n",
        "    feedback_data = file.readlines()\n",
        "\n",
        "# Prepare CSV header\n",
        "csv_header = [\"Feedback Index\", \"Sentiment Polarity\", \"Sentiment Subjectivity\", \"Named Entities\", \"Preferred Contact Method\"]\n",
        "\n",
        "\n",
        "for line in feedback_data:\n",
        "  doc = nlp(line)\n",
        "\n",
        "  nouns = [token.text for token in doc if token.pos_ == 'NOUN']\n",
        "  adjetives = [token.text for token in doc if token.pos_ == 'ADJ']\n",
        "  verbs = [token.text for token in doc if token.pos_ == 'VERB']\n",
        "\n",
        "  print(nouns)\n",
        "  print(adjetives)\n",
        "  print(verbs)\n",
        "  print(word_classification)\n",
        "#-----------------------------------------------------------------"
      ],
      "metadata": {
        "id": "mjkLcZRHQk0t",
        "colab": {
          "base_uri": "https://localhost:8080/"
        },
        "outputId": "9bcea96a-94a5-4e50-8510-d9697bf5d626"
      },
      "execution_count": 6,
      "outputs": [
        {
          "output_type": "stream",
          "name": "stderr",
          "text": [
            "/usr/local/lib/python3.11/dist-packages/spacy/util.py:1740: UserWarning: [W111] Jupyter notebook detected: if using `prefer_gpu()` or `require_gpu()`, include it in the same cell right before `spacy.load()` to ensure that the model is loaded on the correct device. More information: http://spacy.io/usage/v3#jupyter-notebook-gpu\n",
            "  warnings.warn(Warnings.W111)\n"
          ]
        },
        {
          "output_type": "stream",
          "name": "stdout",
          "text": [
            "['products', 'quality', 'delivery', 'location', 'bit']\n",
            "['customer', 'service', 'team', 'issue', 'assistance']\n",
            "['features', 'release', 'user', 'experience']\n",
            "['product', 'expectations', 'issues', 'email', 'address']\n"
          ]
        }
      ]
    },
    {
      "cell_type": "markdown",
      "metadata": {
        "id": "l7hiWdrojvK_"
      },
      "source": [
        "#Exercise #3:  Exploratory Data Analysis on Customer Feedback"
      ]
    },
    {
      "cell_type": "code",
      "execution_count": null,
      "metadata": {
        "id": "c3VdXX05nCw0"
      },
      "outputs": [],
      "source": [
        "##Load results file into a Pandas Dataframe\n",
        "\n",
        "\n",
        "\n",
        "# Display the first rows of the DataFrame\n",
        "\n"
      ]
    },
    {
      "cell_type": "code",
      "execution_count": null,
      "metadata": {
        "id": "CP2J1lkwnyYL"
      },
      "outputs": [],
      "source": [
        "df.info()"
      ]
    },
    {
      "cell_type": "markdown",
      "source": [
        "##Plot the Preferred Contact Method"
      ],
      "metadata": {
        "id": "HPcHpaS5nb2k"
      }
    },
    {
      "cell_type": "code",
      "source": [
        "# Example plot: Preferred Contact Method Count\n",
        "\n",
        "\n",
        "\n",
        "\n"
      ],
      "metadata": {
        "id": "1LKkuGxtfDOt"
      },
      "execution_count": null,
      "outputs": []
    },
    {
      "cell_type": "markdown",
      "source": [
        "##Plot the Sentiment Polarity and Sentiment Subjectivity"
      ],
      "metadata": {
        "id": "1ZN_mzufnh0S"
      }
    },
    {
      "cell_type": "code",
      "source": [
        "# Pair Plot: Pairwise relationships\n",
        "sns.pairplot(data=df[['Sentiment Polarity', 'Sentiment Subjectivity']],\n",
        "             diag_kind='kde')\n",
        "plt.suptitle('Pair Plot: Pairwise relationships')\n",
        "plt.show()"
      ],
      "metadata": {
        "id": "WjYn8tEjgivQ"
      },
      "execution_count": null,
      "outputs": []
    }
  ],
  "metadata": {
    "colab": {
      "provenance": []
    },
    "kernelspec": {
      "display_name": "Python 3",
      "name": "python3"
    },
    "language_info": {
      "name": "python"
    }
  },
  "nbformat": 4,
  "nbformat_minor": 0
}