{
  "cells": [
    {
      "cell_type": "markdown",
      "source": [
        "#Adam - Check permissions on the directory. Getting 404 Error when trying to load in file from github."
      ],
      "metadata": {
        "id": "7StesEa-Ck0y"
      }
    },
    {
      "cell_type": "markdown",
      "source": [
        "#Named Entity Recogniation using spaCy"
      ],
      "metadata": {
        "id": "d79DrY1ETSWc"
      }
    },
    {
      "cell_type": "markdown",
      "metadata": {
        "id": "15EatDy5yxEI"
      },
      "source": [
        "#NER and Sentiment Analysis"
      ]
    },
    {
      "cell_type": "markdown",
      "source": [
        "This next exercise includes NER, Sentiment Analysis, and tokenization (built in)"
      ],
      "metadata": {
        "id": "xcVuOKFQCz51"
      }
    },
    {
      "cell_type": "markdown",
      "source": [
        "##Install libraries"
      ],
      "metadata": {
        "id": "L9S9odMzhM_I"
      }
    },
    {
      "cell_type": "code",
      "execution_count": 1,
      "metadata": {
        "id": "aQZzfNqQkdfW"
      },
      "outputs": [],
      "source": [
        "#!pip install textblob\n",
        "import spacy\n",
        "from textblob import TextBlob\n",
        "import pandas as pd\n",
        "import csv\n"
      ]
    },
    {
      "cell_type": "markdown",
      "source": [
        "## Load the spaCy English model"
      ],
      "metadata": {
        "id": "p5RY6g0chRU3"
      }
    },
    {
      "cell_type": "code",
      "source": [
        "# Load the English NLP model\n",
        "nlp = spacy.load(\"en_core_web_sm\")\n"
      ],
      "metadata": {
        "id": "ONNX6wnQ-lJd"
      },
      "execution_count": 2,
      "outputs": []
    },
    {
      "cell_type": "markdown",
      "source": [
        "## Define the path to the file containing feedback\n"
      ],
      "metadata": {
        "id": "ZOEoKlbWDP4I"
      }
    },
    {
      "cell_type": "code",
      "source": [
        "file_path = '/content/feedback_data.csv'\n"
      ],
      "metadata": {
        "id": "Z1UcWpy9DPOo"
      },
      "execution_count": 3,
      "outputs": []
    },
    {
      "cell_type": "markdown",
      "metadata": {
        "id": "N3uz-z38hC0O"
      },
      "source": [
        "#Read in the input file and to create an output feedback file to a CSV file"
      ]
    },
    {
      "cell_type": "code",
      "execution_count": 7,
      "metadata": {
        "colab": {
          "base_uri": "https://localhost:8080/"
        },
        "id": "QfBGVqlBcTnk",
        "outputId": "da1e512b-e896-4df3-901d-8ad2d6b7ae7d"
      },
      "outputs": [
        {
          "output_type": "stream",
          "name": "stdout",
          "text": [
            "\n",
            "Processing Feedback 1:\n",
            "------------------------------\n",
            "Your products are excellent. I really love the quality! However, delivery to my location in Los Angeles was a bit slow. abbey@email.com\n",
            "Sentiment: 0.44166666666666665 (Polarity), 0.6666666666666666 (Subjectivity)\n",
            "Named Entities: [('Los Angeles', 'GPE')]\n",
            "Preferred Contact Method: email\n",
            "\n",
            "Processing Feedback 2:\n",
            "------------------------------\n",
            "The customer service team in New York was helpful in resolving my issue. I appreciate the assistance. brian@email.com\n",
            "Sentiment: 0.13636363636363635 (Polarity), 0.45454545454545453 (Subjectivity)\n",
            "Named Entities: [('New York', 'GPE')]\n",
            "Preferred Contact Method: email\n",
            "\n",
            "Processing Feedback 3:\n",
            "------------------------------\n",
            "The new features in the latest release are fantastic! They have greatly improved the user experience in San Francisco.\n",
            "Sentiment: 0.48409090909090907 (Polarity), 0.7511363636363636 (Subjectivity)\n",
            "Named Entities: [('San Francisco', 'GPE')]\n",
            "Preferred Contact Method: chat\n",
            "\n",
            "Processing Feedback 4:\n",
            "------------------------------\n",
            "The product didn't meet my expectations, and I'm disappointed. I hope you can address the issues in Chicago. My email address is emailme@email.com\n",
            "Sentiment: -0.75 (Polarity), 0.75 (Subjectivity)\n",
            "Named Entities: [('Chicago', 'GPE')]\n",
            "Preferred Contact Method: email\n",
            "\n",
            "Processing Feedback 5:\n",
            "------------------------------\n",
            "The store was closed but the hours said it should have been open. I wasted gas and tme. helpme@email.com\n",
            "Sentiment: -0.10000000000000002 (Polarity), 0.19999999999999998 (Subjectivity)\n",
            "Named Entities: [('the hours', 'TIME')]\n",
            "Preferred Contact Method: email\n"
          ]
        }
      ],
      "source": [
        "# Read the file using open() with the specified parameters\n",
        "with open(file_path, \"r\", encoding=\"utf-8\") as file:\n",
        "    # Step 2: Read the lines of the file\n",
        "    feedback_data = file.readlines()\n",
        "\n",
        "# Add code to output feedback results to a file.\n",
        "output_csv_path = \"feedback_analysis_results.csv\"\n",
        "\n",
        "# Prepare CSV header\n",
        "csv_header = [\"Feedback Index\", \"Sentiment Polarity\", \"Sentiment Subjectivity\", \"Named Entities\", \"Preferred Contact Method\"]\n",
        "\n",
        "# Open CSV file for writing\n",
        "with open(output_csv_path, \"w\", newline=\"\", encoding=\"utf-8\") as csv_file:\n",
        "    # Create CSV writer\n",
        "    csv_writer = csv.writer(csv_file)\n",
        "\n",
        "    # Write the header\n",
        "    csv_writer.writerow(csv_header)\n",
        "\n",
        "    # Process and analyze each feedback\n",
        "    #for idx, narrative in enumerate(feedback_data, start=1):\n",
        "\n",
        "  # Process and analyze each feedback\n",
        "    for idx, narrative in enumerate(feedback_data, start=1):\n",
        "      print(f\"\\nProcessing Feedback {idx}:\")\n",
        "      print(\"------------------------------\")\n",
        "      print(narrative.strip())\n",
        "\n",
        "        # Process the narrative using spaCy\n",
        "      doc = nlp(narrative)\n",
        "\n",
        "        # Perform sentiment analysis using TextBlob\n",
        "      blob = TextBlob(narrative)\n",
        "      sentiment_polarity = blob.sentiment.polarity\n",
        "      sentiment_subjectivity = blob.sentiment.subjectivity\n",
        "      print(f\"Sentiment: {sentiment_polarity} (Polarity), {sentiment_subjectivity} (Subjectivity)\")\n",
        "\n",
        "\n",
        "        # Extract named entities\n",
        "      entities = [(ent.text, ent.label_) for ent in doc.ents]\n",
        "      print(\"Named Entities:\", entities)\n",
        "\n",
        "        # Determine the preferred contact method\n",
        "      preferred_contact_method = \"chat\" if \"email\" not in narrative.lower() else \"email\"\n",
        "      print(f\"Preferred Contact Method: {preferred_contact_method}\")\n",
        "\n",
        "        # Write the results to the CSV file\n",
        "      csv_writer.writerow([idx, sentiment_polarity, sentiment_subjectivity, entities, preferred_contact_method])\n"
      ]
    },
    {
      "cell_type": "markdown",
      "metadata": {
        "id": "l7hiWdrojvK_"
      },
      "source": [
        "#Visualize Output Data"
      ]
    },
    {
      "cell_type": "markdown",
      "metadata": {
        "id": "IiGEWyetjvNx"
      },
      "source": [
        "Bring data into a Pandas Dataframe"
      ]
    },
    {
      "cell_type": "code",
      "execution_count": 14,
      "metadata": {
        "colab": {
          "base_uri": "https://localhost:8080/",
          "height": 345
        },
        "id": "c3VdXX05nCw0",
        "outputId": "5a6830cd-7796-4e46-96ac-794bebbaf809"
      },
      "outputs": [
        {
          "output_type": "execute_result",
          "data": {
            "text/plain": [
              "   Feedback Index  Sentiment Polarity  Sentiment Subjectivity  \\\n",
              "0               1            0.441667                0.666667   \n",
              "1               2            0.136364                0.454545   \n",
              "2               3            0.484091                0.751136   \n",
              "3               4           -0.750000                0.750000   \n",
              "4               5           -0.100000                0.200000   \n",
              "\n",
              "               Named Entities Preferred Contact Method  \n",
              "0    [('Los Angeles', 'GPE')]                    email  \n",
              "1       [('New York', 'GPE')]                    email  \n",
              "2  [('San Francisco', 'GPE')]                     chat  \n",
              "3        [('Chicago', 'GPE')]                    email  \n",
              "4     [('the hours', 'TIME')]                    email  "
            ],
            "text/html": [
              "\n",
              "  <div id=\"df-89b2c9b1-2d8f-446d-9b2a-9239ea913d6d\" class=\"colab-df-container\">\n",
              "    <div>\n",
              "<style scoped>\n",
              "    .dataframe tbody tr th:only-of-type {\n",
              "        vertical-align: middle;\n",
              "    }\n",
              "\n",
              "    .dataframe tbody tr th {\n",
              "        vertical-align: top;\n",
              "    }\n",
              "\n",
              "    .dataframe thead th {\n",
              "        text-align: right;\n",
              "    }\n",
              "</style>\n",
              "<table border=\"1\" class=\"dataframe\">\n",
              "  <thead>\n",
              "    <tr style=\"text-align: right;\">\n",
              "      <th></th>\n",
              "      <th>Feedback Index</th>\n",
              "      <th>Sentiment Polarity</th>\n",
              "      <th>Sentiment Subjectivity</th>\n",
              "      <th>Named Entities</th>\n",
              "      <th>Preferred Contact Method</th>\n",
              "    </tr>\n",
              "  </thead>\n",
              "  <tbody>\n",
              "    <tr>\n",
              "      <th>0</th>\n",
              "      <td>1</td>\n",
              "      <td>0.441667</td>\n",
              "      <td>0.666667</td>\n",
              "      <td>[('Los Angeles', 'GPE')]</td>\n",
              "      <td>email</td>\n",
              "    </tr>\n",
              "    <tr>\n",
              "      <th>1</th>\n",
              "      <td>2</td>\n",
              "      <td>0.136364</td>\n",
              "      <td>0.454545</td>\n",
              "      <td>[('New York', 'GPE')]</td>\n",
              "      <td>email</td>\n",
              "    </tr>\n",
              "    <tr>\n",
              "      <th>2</th>\n",
              "      <td>3</td>\n",
              "      <td>0.484091</td>\n",
              "      <td>0.751136</td>\n",
              "      <td>[('San Francisco', 'GPE')]</td>\n",
              "      <td>chat</td>\n",
              "    </tr>\n",
              "    <tr>\n",
              "      <th>3</th>\n",
              "      <td>4</td>\n",
              "      <td>-0.750000</td>\n",
              "      <td>0.750000</td>\n",
              "      <td>[('Chicago', 'GPE')]</td>\n",
              "      <td>email</td>\n",
              "    </tr>\n",
              "    <tr>\n",
              "      <th>4</th>\n",
              "      <td>5</td>\n",
              "      <td>-0.100000</td>\n",
              "      <td>0.200000</td>\n",
              "      <td>[('the hours', 'TIME')]</td>\n",
              "      <td>email</td>\n",
              "    </tr>\n",
              "  </tbody>\n",
              "</table>\n",
              "</div>\n",
              "    <div class=\"colab-df-buttons\">\n",
              "\n",
              "  <div class=\"colab-df-container\">\n",
              "    <button class=\"colab-df-convert\" onclick=\"convertToInteractive('df-89b2c9b1-2d8f-446d-9b2a-9239ea913d6d')\"\n",
              "            title=\"Convert this dataframe to an interactive table.\"\n",
              "            style=\"display:none;\">\n",
              "\n",
              "  <svg xmlns=\"http://www.w3.org/2000/svg\" height=\"24px\" viewBox=\"0 -960 960 960\">\n",
              "    <path d=\"M120-120v-720h720v720H120Zm60-500h600v-160H180v160Zm220 220h160v-160H400v160Zm0 220h160v-160H400v160ZM180-400h160v-160H180v160Zm440 0h160v-160H620v160ZM180-180h160v-160H180v160Zm440 0h160v-160H620v160Z\"/>\n",
              "  </svg>\n",
              "    </button>\n",
              "\n",
              "  <style>\n",
              "    .colab-df-container {\n",
              "      display:flex;\n",
              "      gap: 12px;\n",
              "    }\n",
              "\n",
              "    .colab-df-convert {\n",
              "      background-color: #E8F0FE;\n",
              "      border: none;\n",
              "      border-radius: 50%;\n",
              "      cursor: pointer;\n",
              "      display: none;\n",
              "      fill: #1967D2;\n",
              "      height: 32px;\n",
              "      padding: 0 0 0 0;\n",
              "      width: 32px;\n",
              "    }\n",
              "\n",
              "    .colab-df-convert:hover {\n",
              "      background-color: #E2EBFA;\n",
              "      box-shadow: 0px 1px 2px rgba(60, 64, 67, 0.3), 0px 1px 3px 1px rgba(60, 64, 67, 0.15);\n",
              "      fill: #174EA6;\n",
              "    }\n",
              "\n",
              "    .colab-df-buttons div {\n",
              "      margin-bottom: 4px;\n",
              "    }\n",
              "\n",
              "    [theme=dark] .colab-df-convert {\n",
              "      background-color: #3B4455;\n",
              "      fill: #D2E3FC;\n",
              "    }\n",
              "\n",
              "    [theme=dark] .colab-df-convert:hover {\n",
              "      background-color: #434B5C;\n",
              "      box-shadow: 0px 1px 3px 1px rgba(0, 0, 0, 0.15);\n",
              "      filter: drop-shadow(0px 1px 2px rgba(0, 0, 0, 0.3));\n",
              "      fill: #FFFFFF;\n",
              "    }\n",
              "  </style>\n",
              "\n",
              "    <script>\n",
              "      const buttonEl =\n",
              "        document.querySelector('#df-89b2c9b1-2d8f-446d-9b2a-9239ea913d6d button.colab-df-convert');\n",
              "      buttonEl.style.display =\n",
              "        google.colab.kernel.accessAllowed ? 'block' : 'none';\n",
              "\n",
              "      async function convertToInteractive(key) {\n",
              "        const element = document.querySelector('#df-89b2c9b1-2d8f-446d-9b2a-9239ea913d6d');\n",
              "        const dataTable =\n",
              "          await google.colab.kernel.invokeFunction('convertToInteractive',\n",
              "                                                    [key], {});\n",
              "        if (!dataTable) return;\n",
              "\n",
              "        const docLinkHtml = 'Like what you see? Visit the ' +\n",
              "          '<a target=\"_blank\" href=https://colab.research.google.com/notebooks/data_table.ipynb>data table notebook</a>'\n",
              "          + ' to learn more about interactive tables.';\n",
              "        element.innerHTML = '';\n",
              "        dataTable['output_type'] = 'display_data';\n",
              "        await google.colab.output.renderOutput(dataTable, element);\n",
              "        const docLink = document.createElement('div');\n",
              "        docLink.innerHTML = docLinkHtml;\n",
              "        element.appendChild(docLink);\n",
              "      }\n",
              "    </script>\n",
              "  </div>\n",
              "\n",
              "\n",
              "<div id=\"df-2b331450-be8c-4628-bb45-2bbbe4094fe5\">\n",
              "  <button class=\"colab-df-quickchart\" onclick=\"quickchart('df-2b331450-be8c-4628-bb45-2bbbe4094fe5')\"\n",
              "            title=\"Suggest charts\"\n",
              "            style=\"display:none;\">\n",
              "\n",
              "<svg xmlns=\"http://www.w3.org/2000/svg\" height=\"24px\"viewBox=\"0 0 24 24\"\n",
              "     width=\"24px\">\n",
              "    <g>\n",
              "        <path d=\"M19 3H5c-1.1 0-2 .9-2 2v14c0 1.1.9 2 2 2h14c1.1 0 2-.9 2-2V5c0-1.1-.9-2-2-2zM9 17H7v-7h2v7zm4 0h-2V7h2v10zm4 0h-2v-4h2v4z\"/>\n",
              "    </g>\n",
              "</svg>\n",
              "  </button>\n",
              "\n",
              "<style>\n",
              "  .colab-df-quickchart {\n",
              "      --bg-color: #E8F0FE;\n",
              "      --fill-color: #1967D2;\n",
              "      --hover-bg-color: #E2EBFA;\n",
              "      --hover-fill-color: #174EA6;\n",
              "      --disabled-fill-color: #AAA;\n",
              "      --disabled-bg-color: #DDD;\n",
              "  }\n",
              "\n",
              "  [theme=dark] .colab-df-quickchart {\n",
              "      --bg-color: #3B4455;\n",
              "      --fill-color: #D2E3FC;\n",
              "      --hover-bg-color: #434B5C;\n",
              "      --hover-fill-color: #FFFFFF;\n",
              "      --disabled-bg-color: #3B4455;\n",
              "      --disabled-fill-color: #666;\n",
              "  }\n",
              "\n",
              "  .colab-df-quickchart {\n",
              "    background-color: var(--bg-color);\n",
              "    border: none;\n",
              "    border-radius: 50%;\n",
              "    cursor: pointer;\n",
              "    display: none;\n",
              "    fill: var(--fill-color);\n",
              "    height: 32px;\n",
              "    padding: 0;\n",
              "    width: 32px;\n",
              "  }\n",
              "\n",
              "  .colab-df-quickchart:hover {\n",
              "    background-color: var(--hover-bg-color);\n",
              "    box-shadow: 0 1px 2px rgba(60, 64, 67, 0.3), 0 1px 3px 1px rgba(60, 64, 67, 0.15);\n",
              "    fill: var(--button-hover-fill-color);\n",
              "  }\n",
              "\n",
              "  .colab-df-quickchart-complete:disabled,\n",
              "  .colab-df-quickchart-complete:disabled:hover {\n",
              "    background-color: var(--disabled-bg-color);\n",
              "    fill: var(--disabled-fill-color);\n",
              "    box-shadow: none;\n",
              "  }\n",
              "\n",
              "  .colab-df-spinner {\n",
              "    border: 2px solid var(--fill-color);\n",
              "    border-color: transparent;\n",
              "    border-bottom-color: var(--fill-color);\n",
              "    animation:\n",
              "      spin 1s steps(1) infinite;\n",
              "  }\n",
              "\n",
              "  @keyframes spin {\n",
              "    0% {\n",
              "      border-color: transparent;\n",
              "      border-bottom-color: var(--fill-color);\n",
              "      border-left-color: var(--fill-color);\n",
              "    }\n",
              "    20% {\n",
              "      border-color: transparent;\n",
              "      border-left-color: var(--fill-color);\n",
              "      border-top-color: var(--fill-color);\n",
              "    }\n",
              "    30% {\n",
              "      border-color: transparent;\n",
              "      border-left-color: var(--fill-color);\n",
              "      border-top-color: var(--fill-color);\n",
              "      border-right-color: var(--fill-color);\n",
              "    }\n",
              "    40% {\n",
              "      border-color: transparent;\n",
              "      border-right-color: var(--fill-color);\n",
              "      border-top-color: var(--fill-color);\n",
              "    }\n",
              "    60% {\n",
              "      border-color: transparent;\n",
              "      border-right-color: var(--fill-color);\n",
              "    }\n",
              "    80% {\n",
              "      border-color: transparent;\n",
              "      border-right-color: var(--fill-color);\n",
              "      border-bottom-color: var(--fill-color);\n",
              "    }\n",
              "    90% {\n",
              "      border-color: transparent;\n",
              "      border-bottom-color: var(--fill-color);\n",
              "    }\n",
              "  }\n",
              "</style>\n",
              "\n",
              "  <script>\n",
              "    async function quickchart(key) {\n",
              "      const quickchartButtonEl =\n",
              "        document.querySelector('#' + key + ' button');\n",
              "      quickchartButtonEl.disabled = true;  // To prevent multiple clicks.\n",
              "      quickchartButtonEl.classList.add('colab-df-spinner');\n",
              "      try {\n",
              "        const charts = await google.colab.kernel.invokeFunction(\n",
              "            'suggestCharts', [key], {});\n",
              "      } catch (error) {\n",
              "        console.error('Error during call to suggestCharts:', error);\n",
              "      }\n",
              "      quickchartButtonEl.classList.remove('colab-df-spinner');\n",
              "      quickchartButtonEl.classList.add('colab-df-quickchart-complete');\n",
              "    }\n",
              "    (() => {\n",
              "      let quickchartButtonEl =\n",
              "        document.querySelector('#df-2b331450-be8c-4628-bb45-2bbbe4094fe5 button');\n",
              "      quickchartButtonEl.style.display =\n",
              "        google.colab.kernel.accessAllowed ? 'block' : 'none';\n",
              "    })();\n",
              "  </script>\n",
              "</div>\n",
              "\n",
              "    </div>\n",
              "  </div>\n"
            ]
          },
          "metadata": {},
          "execution_count": 14
        }
      ],
      "source": [
        "\n",
        "# Define the path to the feedback results CSV file\n",
        "csv_file_path = \"/content/feedback_analysis_results.csv\"\n",
        "\n",
        "# Load data into a Pandas DataFrame\n",
        "df = pd.read_csv(csv_file_path)\n",
        "\n",
        "# Display the DataFrame\n",
        "df.head()\n"
      ]
    },
    {
      "cell_type": "code",
      "execution_count": 10,
      "metadata": {
        "colab": {
          "base_uri": "https://localhost:8080/"
        },
        "id": "CP2J1lkwnyYL",
        "outputId": "4a310147-396e-4470-f349-dcd1c7b35235"
      },
      "outputs": [
        {
          "output_type": "stream",
          "name": "stdout",
          "text": [
            "<class 'pandas.core.frame.DataFrame'>\n",
            "RangeIndex: 5 entries, 0 to 4\n",
            "Data columns (total 5 columns):\n",
            " #   Column                    Non-Null Count  Dtype  \n",
            "---  ------                    --------------  -----  \n",
            " 0   Feedback Index            5 non-null      int64  \n",
            " 1   Sentiment Polarity        5 non-null      float64\n",
            " 2   Sentiment Subjectivity    5 non-null      float64\n",
            " 3   Named Entities            5 non-null      object \n",
            " 4   Preferred Contact Method  5 non-null      object \n",
            "dtypes: float64(2), int64(1), object(2)\n",
            "memory usage: 328.0+ bytes\n"
          ]
        }
      ],
      "source": [
        "df.info()"
      ]
    }
  ],
  "metadata": {
    "colab": {
      "provenance": []
    },
    "kernelspec": {
      "display_name": "Python 3",
      "name": "python3"
    },
    "language_info": {
      "name": "python"
    }
  },
  "nbformat": 4,
  "nbformat_minor": 0
}